{
 "cells": [
  {
   "cell_type": "code",
   "execution_count": 1,
   "metadata": {},
   "outputs": [],
   "source": [
    "#import torch vision and other necessary libraries help load CIFAR10 data.\n",
    "import torch\n",
    "import torchvision\n",
    "import torchvision.transforms as transforms\n",
    "import matplotlib.pyplot as plt\n",
    "import numpy as np\n",
    "import torch.nn as nn\n",
    "import torch.nn.functional as F\n",
    "import torch.optim as optim"
   ]
  },
  {
   "cell_type": "code",
   "execution_count": 16,
   "metadata": {},
   "outputs": [
    {
     "name": "stdout",
     "output_type": "stream",
     "text": [
      "Files already downloaded and verified\n",
      "Files already downloaded and verified\n"
     ]
    }
   ],
   "source": [
    "#implement the test loader functions \n",
    "transform = transforms.Compose(\n",
    "    [transforms.ToTensor(),\n",
    "     transforms.Normalize((0.5, 0.5, 0.5), (0.5, 0.5, 0.5))]) #normalizing image inputs\n",
    "\n",
    "trainset = torchvision.datasets.CIFAR10(root='./data', train=True,\n",
    "                                        download=True, transform=transform) #transforming train set\n",
    "\n",
    "trainloader = torch.utils.data.DataLoader(trainset, batch_size=4,\n",
    "                                          shuffle=True, num_workers=2) # loader for trainset\n",
    "\n",
    "testset = torchvision.datasets.CIFAR10(root='./data', train=False,\n",
    "                                       download=True, transform=transform) #transforming test set\n",
    "testloader = torch.utils.data.DataLoader(testset, batch_size=4,\n",
    "                                         shuffle=False, num_workers=2) #loader for test set\n",
    "# different classes \n",
    "classes = ('plane', 'car', 'bird', 'cat',\n",
    "           'deer', 'dog', 'frog', 'horse', 'ship', 'truck')"
   ]
  },
  {
   "cell_type": "code",
   "execution_count": 17,
   "metadata": {},
   "outputs": [
    {
     "data": {
      "image/png": "[encoded data removed]",
      "text/plain": [
       "<Figure size 432x288 with 1 Axes>"
      ]
     },
     "metadata": {
      "needs_background": "light"
     },
     "output_type": "display_data"
    },
    {
     "name": "stdout",
     "output_type": "stream",
     "text": [
      "plane horse plane horse\n"
     ]
    }
   ],
   "source": [
    "#funtion to show images\n",
    "def imshow(image):\n",
    "    image = image / 2 + 0.5     # unnormalize image\n",
    "    npimg = image.numpy()\n",
    "    plt.imshow(np.transpose(npimg, (1, 2, 0)))\n",
    "    plt.show()\n",
    "\n",
    "\n",
    "# get some random training images for showing purposes\n",
    "dataiter = iter(trainloader)\n",
    "images, labels = dataiter.next()\n",
    "\n",
    "# showing images\n",
    "imshow(torchvision.utils.make_grid(images))\n",
    "# printing labels\n",
    "print(' '.join('%5s' % classes[labels[j]] for j in range(4)))"
   ]
  },
  {
   "cell_type": "code",
   "execution_count": 18,
   "metadata": {},
   "outputs": [],
   "source": [
    "#building the Neural Network.\n",
    "class Net(nn.Module):  #allows us to inherit form the Network parent class so we can call some modules\n",
    "    def __init__(self):\n",
    "        super(Net, self).__init__()  #initialize the network\n",
    "        self.conv1 = nn.Conv2d(3, 6, 5) # first layer: in_channel=3, out_channel= 6 and kernel_size =5\n",
    "        self.pool = nn.MaxPool2d(2, 2)  #max pooling is to downsample the images\n",
    "        self.conv2 = nn.Conv2d(6, 16, 5) # second layer: in_channel = 6, out_channel=16 and kernel = 5\n",
    "        #from the two layers defined above, we produce a 16*5*5 features that is later fed into the linear layers\n",
    "        self.fc1 = nn.Linear(16 * 5 * 5, 120)#  in_features = 16*5*5, out_features=120\n",
    "        self.fc2 = nn.Linear(120, 84) #in_features=120, out_features=84\n",
    "        self.fc3 = nn.Linear(84, 10) # in_featuers= 84, out features=10 for 10 classes.\n",
    "\n",
    "    def forward(self, x):    #gets some data (x) and passes it through the different layers created\n",
    "        x = self.pool(F.relu(self.conv1(x))) # passing data(x) through conv layer 1\n",
    "        x = self.pool(F.relu(self.conv2(x))) #passing data(x) through conv layer 2\n",
    "        x = x.view(-1, 16 * 5 * 5) # Passing data(x) through view so it will be ready for linear layers \n",
    "        x = F.relu(self.fc1(x)) #Passing data(x) through linear layer1 \n",
    "        x = F.relu(self.fc2(x))  #passing data(x) through linear layer2\n",
    "        x = self.fc3(x)         #passing data(x) through linear layer 3\n",
    "        return x                #returning data(x)\n",
    "\n",
    "\n",
    "net = Net()            #creating an object of the network\n"
   ]
  },
  {
   "cell_type": "code",
   "execution_count": 19,
   "metadata": {},
   "outputs": [],
   "source": [
    "#defining loss functions and optimizer\n",
    "criterion = nn.CrossEntropyLoss() # using cross entropty loss from pytorch.  \n",
    "optimizer = optim.SGD(net.parameters(), lr=0.001, momentum=0.9) # will later be used to optimize cost function"
   ]
  },
  {
   "cell_type": "code",
   "execution_count": 20,
   "metadata": {},
   "outputs": [
    {
     "name": "stdout",
     "output_type": "stream",
     "text": [
      "[1,  2000] loss: 2.202\n",
      "[1,  4000] loss: 1.869\n",
      "[1,  6000] loss: 1.651\n",
      "[1,  8000] loss: 1.568\n",
      "[1, 10000] loss: 1.498\n",
      "[1, 12000] loss: 1.463\n",
      "[2,  2000] loss: 1.421\n",
      "[2,  4000] loss: 1.374\n",
      "[2,  6000] loss: 1.353\n",
      "[2,  8000] loss: 1.311\n",
      "[2, 10000] loss: 1.305\n",
      "[2, 12000] loss: 1.278\n",
      "[3,  2000] loss: 1.218\n",
      "[3,  4000] loss: 1.214\n",
      "[3,  6000] loss: 1.210\n",
      "[3,  8000] loss: 1.189\n",
      "[3, 10000] loss: 1.172\n",
      "[3, 12000] loss: 1.183\n",
      "Finished Training\n"
     ]
    }
   ],
   "source": [
    "#Training the Network for two passes over the train data\n",
    "for epoch in range(3):  # We loop over the dataset multiple times\n",
    "\n",
    "    running_loss = 0.0   #initializing los variable\n",
    "    for i, data in enumerate(trainloader, 0): # going over each element in the train loadaer\n",
    "        # getting the inputs\n",
    "        inputs, labels = data\n",
    "\n",
    "        # zero the parameter gradients\n",
    "        optimizer.zero_grad()\n",
    "\n",
    "        # forward + backward + optimize\n",
    "        outputs = net(inputs)  #feed training data to the network\n",
    "        loss = criterion(outputs, labels) # calculate loss based on outputs and actual lables\n",
    "        loss.backward()  # calculate gradients for optimization\n",
    "        optimizer.step() #optimize based on gradients.\n",
    "\n",
    "        # print statistics\n",
    "        running_loss += loss.item()\n",
    "        if i % 2000 == 1999:    # print every 2000 mini-batches\n",
    "            print('[%d, %5d] loss: %.3f' %\n",
    "                  (epoch + 1, i + 1, running_loss / 2000))\n",
    "            running_loss = 0.0\n",
    "\n",
    "print('Finished Training')"
   ]
  },
  {
   "cell_type": "code",
   "execution_count": 21,
   "metadata": {},
   "outputs": [
    {
     "data": {
      "image/png": "[encoded data removed]",
      "text/plain": [
       "<Figure size 432x288 with 1 Axes>"
      ]
     },
     "metadata": {
      "needs_background": "light"
     },
     "output_type": "display_data"
    },
    {
     "name": "stdout",
     "output_type": "stream",
     "text": [
      "GroundTruth:    cat  ship  ship plane\n"
     ]
    }
   ],
   "source": [
    "#Test network by checking ground truth against results predicted by the network\n",
    "\n",
    "dataiter = iter(testloader)\n",
    "images, labels = dataiter.next()\n",
    "\n",
    "# print images to shwow ground truths\n",
    "imshow(torchvision.utils.make_grid(images))\n",
    "print('GroundTruth: ', ' '.join('%5s' % classes[labels[j]] for j in range(4)))"
   ]
  },
  {
   "cell_type": "code",
   "execution_count": 11,
   "metadata": {},
   "outputs": [],
   "source": [
    "#see what the network predicts\n",
    "#produces an output that are energies of the 10 classes, higher energy of a class means\n",
    "#the network thinks the image belongs to that class.\n",
    "outputs = net(images)"
   ]
  },
  {
   "cell_type": "code",
   "execution_count": 22,
   "metadata": {},
   "outputs": [
    {
     "name": "stdout",
     "output_type": "stream",
     "text": [
      "Predicted:   frog plane truck   dog\n"
     ]
    }
   ],
   "source": [
    "#printing predicted outputs\n",
    "_, predicted = torch.max(outputs, 1)\n",
    "\n",
    "print('Predicted: ', ' '.join('%5s' % classes[predicted[j]]\n",
    "                              for j in range(4)))"
   ]
  },
  {
   "cell_type": "code",
   "execution_count": 23,
   "metadata": {},
   "outputs": [
    {
     "name": "stdout",
     "output_type": "stream",
     "text": [
      "Accuracy of the network on the 10000 test images: 53 %\n"
     ]
    }
   ],
   "source": [
    "#testing on whole data set\n",
    "correct = 0\n",
    "total = 0\n",
    "with torch.no_grad():\n",
    "    for data in testloader:\n",
    "        images, labels = data\n",
    "        outputs = net(images)\n",
    "        _, predicted = torch.max(outputs.data, 1)\n",
    "        total += labels.size(0)\n",
    "        correct += (predicted == labels).sum().item()\n",
    "\n",
    "print('Accuracy of the network on the 10000 test images: %d %%' % (\n",
    "    100 * correct / total))"
   ]
  },
  {
   "cell_type": "code",
   "execution_count": 24,
   "metadata": {},
   "outputs": [
    {
     "name": "stdout",
     "output_type": "stream",
     "text": [
      "Accuracy of plane : 60 %\n",
      "Accuracy of   car : 64 %\n",
      "Accuracy of  bird : 26 %\n",
      "Accuracy of   cat : 47 %\n",
      "Accuracy of  deer : 33 %\n",
      "Accuracy of   dog : 30 %\n",
      "Accuracy of  frog : 80 %\n",
      "Accuracy of horse : 62 %\n",
      "Accuracy of  ship : 47 %\n",
      "Accuracy of truck : 82 %\n"
     ]
    }
   ],
   "source": [
    "#what are the accuracy of each of the classes/\n",
    "class_correct = list(0. for i in range(10))\n",
    "class_total = list(0. for i in range(10))\n",
    "with torch.no_grad():\n",
    "    for data in testloader:\n",
    "        images, labels = data\n",
    "        outputs = net(images)\n",
    "        _, predicted = torch.max(outputs, 1)\n",
    "        c = (predicted == labels).squeeze()\n",
    "        for i in range(4):\n",
    "            label = labels[i]\n",
    "            class_correct[label] += c[i].item()\n",
    "            class_total[label] += 1\n",
    "\n",
    "\n",
    "for i in range(10):\n",
    "    print('Accuracy of %5s : %2d %%' % (\n",
    "        classes[i], 100 * class_correct[i] / class_total[i]))\n"
   ]
  },
  {
   "cell_type": "code",
   "execution_count": null,
   "metadata": {},
   "outputs": [],
   "source": []
  }
 ],
 "metadata": {
  "kernelspec": {
   "display_name": "Python 3",
   "language": "python",
   "name": "python3"
  },
  "language_info": {
   "codemirror_mode": {
    "name": "ipython",
    "version": 3
   },
   "file_extension": ".py",
   "mimetype": "text/x-python",
   "name": "python",
   "nbconvert_exporter": "python",
   "pygments_lexer": "ipython3",
   "version": "3.7.1"
  }
 },
 "nbformat": 4,
 "nbformat_minor": 2
}
